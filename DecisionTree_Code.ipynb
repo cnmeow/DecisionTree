{
  "nbformat": 4,
  "nbformat_minor": 0,
  "metadata": {
    "colab": {
      "provenance": []
    },
    "kernelspec": {
      "name": "python3",
      "display_name": "Python 3"
    },
    "language_info": {
      "name": "python"
    }
  },
  "cells": [
    {
      "cell_type": "markdown",
      "source": [
        "\n",
        "# Bài tập 0 - Tìm hiểu Decision Tree\n",
        "Họ tên: Trần Như Cẩm Nguyên\n",
        "MSSV: 22520004"
      ],
      "metadata": {
        "id": "5vucOCY6aqgt"
      }
    },
    {
      "cell_type": "markdown",
      "source": [
        "# 2. Decision Tree trong sklearn"
      ],
      "metadata": {
        "id": "o0beJ1AQX_T5"
      }
    },
    {
      "cell_type": "markdown",
      "source": [
        "Cách dùng Decision Tree trong sklearn cho bài toán phân loại loài hoa."
      ],
      "metadata": {
        "id": "tYVJlt4cmqvB"
      }
    },
    {
      "cell_type": "code",
      "execution_count": null,
      "metadata": {
        "id": "Mr8yeFg5XTBs"
      },
      "outputs": [],
      "source": [
        "import numpy as np\n",
        "import sklearn\n",
        "from sklearn.datasets import load_iris\n",
        "from sklearn.model_selection import train_test_split\n",
        "\n",
        "iris = load_iris() # Load dữ liệu\n",
        "X = iris.data # Design matrix\n",
        "y = iris.target # Targets"
      ]
    },
    {
      "cell_type": "code",
      "source": [
        "# Xem dữ liệu\n",
        "import pandas as pd\n",
        "df = pd.DataFrame(data=X, columns=iris.feature_names)\n",
        "df['label'] = pd.Series(iris.target_names[y], dtype='category')\n",
        "df"
      ],
      "metadata": {
        "colab": {
          "base_uri": "https://localhost:8080/",
          "height": 441
        },
        "id": "g2iO54FdZQjD",
        "outputId": "d41c8daf-28e2-462c-ce3e-84398c1e06f9"
      },
      "execution_count": null,
      "outputs": [
        {
          "output_type": "execute_result",
          "data": {
            "text/plain": [
              "     sepal length (cm)  sepal width (cm)  petal length (cm)  petal width (cm)  \\\n",
              "0                  5.1               3.5                1.4               0.2   \n",
              "1                  4.9               3.0                1.4               0.2   \n",
              "2                  4.7               3.2                1.3               0.2   \n",
              "3                  4.6               3.1                1.5               0.2   \n",
              "4                  5.0               3.6                1.4               0.2   \n",
              "..                 ...               ...                ...               ...   \n",
              "145                6.7               3.0                5.2               2.3   \n",
              "146                6.3               2.5                5.0               1.9   \n",
              "147                6.5               3.0                5.2               2.0   \n",
              "148                6.2               3.4                5.4               2.3   \n",
              "149                5.9               3.0                5.1               1.8   \n",
              "\n",
              "         label  \n",
              "0       setosa  \n",
              "1       setosa  \n",
              "2       setosa  \n",
              "3       setosa  \n",
              "4       setosa  \n",
              "..         ...  \n",
              "145  virginica  \n",
              "146  virginica  \n",
              "147  virginica  \n",
              "148  virginica  \n",
              "149  virginica  \n",
              "\n",
              "[150 rows x 5 columns]"
            ],
            "text/html": [
              "\n",
              "  <div id=\"df-ce6317ae-fe33-427f-8212-008370dd4d95\" class=\"colab-df-container\">\n",
              "    <div>\n",
              "<style scoped>\n",
              "    .dataframe tbody tr th:only-of-type {\n",
              "        vertical-align: middle;\n",
              "    }\n",
              "\n",
              "    .dataframe tbody tr th {\n",
              "        vertical-align: top;\n",
              "    }\n",
              "\n",
              "    .dataframe thead th {\n",
              "        text-align: right;\n",
              "    }\n",
              "</style>\n",
              "<table border=\"1\" class=\"dataframe\">\n",
              "  <thead>\n",
              "    <tr style=\"text-align: right;\">\n",
              "      <th></th>\n",
              "      <th>sepal length (cm)</th>\n",
              "      <th>sepal width (cm)</th>\n",
              "      <th>petal length (cm)</th>\n",
              "      <th>petal width (cm)</th>\n",
              "      <th>label</th>\n",
              "    </tr>\n",
              "  </thead>\n",
              "  <tbody>\n",
              "    <tr>\n",
              "      <th>0</th>\n",
              "      <td>5.1</td>\n",
              "      <td>3.5</td>\n",
              "      <td>1.4</td>\n",
              "      <td>0.2</td>\n",
              "      <td>setosa</td>\n",
              "    </tr>\n",
              "    <tr>\n",
              "      <th>1</th>\n",
              "      <td>4.9</td>\n",
              "      <td>3.0</td>\n",
              "      <td>1.4</td>\n",
              "      <td>0.2</td>\n",
              "      <td>setosa</td>\n",
              "    </tr>\n",
              "    <tr>\n",
              "      <th>2</th>\n",
              "      <td>4.7</td>\n",
              "      <td>3.2</td>\n",
              "      <td>1.3</td>\n",
              "      <td>0.2</td>\n",
              "      <td>setosa</td>\n",
              "    </tr>\n",
              "    <tr>\n",
              "      <th>3</th>\n",
              "      <td>4.6</td>\n",
              "      <td>3.1</td>\n",
              "      <td>1.5</td>\n",
              "      <td>0.2</td>\n",
              "      <td>setosa</td>\n",
              "    </tr>\n",
              "    <tr>\n",
              "      <th>4</th>\n",
              "      <td>5.0</td>\n",
              "      <td>3.6</td>\n",
              "      <td>1.4</td>\n",
              "      <td>0.2</td>\n",
              "      <td>setosa</td>\n",
              "    </tr>\n",
              "    <tr>\n",
              "      <th>...</th>\n",
              "      <td>...</td>\n",
              "      <td>...</td>\n",
              "      <td>...</td>\n",
              "      <td>...</td>\n",
              "      <td>...</td>\n",
              "    </tr>\n",
              "    <tr>\n",
              "      <th>145</th>\n",
              "      <td>6.7</td>\n",
              "      <td>3.0</td>\n",
              "      <td>5.2</td>\n",
              "      <td>2.3</td>\n",
              "      <td>virginica</td>\n",
              "    </tr>\n",
              "    <tr>\n",
              "      <th>146</th>\n",
              "      <td>6.3</td>\n",
              "      <td>2.5</td>\n",
              "      <td>5.0</td>\n",
              "      <td>1.9</td>\n",
              "      <td>virginica</td>\n",
              "    </tr>\n",
              "    <tr>\n",
              "      <th>147</th>\n",
              "      <td>6.5</td>\n",
              "      <td>3.0</td>\n",
              "      <td>5.2</td>\n",
              "      <td>2.0</td>\n",
              "      <td>virginica</td>\n",
              "    </tr>\n",
              "    <tr>\n",
              "      <th>148</th>\n",
              "      <td>6.2</td>\n",
              "      <td>3.4</td>\n",
              "      <td>5.4</td>\n",
              "      <td>2.3</td>\n",
              "      <td>virginica</td>\n",
              "    </tr>\n",
              "    <tr>\n",
              "      <th>149</th>\n",
              "      <td>5.9</td>\n",
              "      <td>3.0</td>\n",
              "      <td>5.1</td>\n",
              "      <td>1.8</td>\n",
              "      <td>virginica</td>\n",
              "    </tr>\n",
              "  </tbody>\n",
              "</table>\n",
              "<p>150 rows × 5 columns</p>\n",
              "</div>\n",
              "    <div class=\"colab-df-buttons\">\n",
              "\n",
              "  <div class=\"colab-df-container\">\n",
              "    <button class=\"colab-df-convert\" onclick=\"convertToInteractive('df-ce6317ae-fe33-427f-8212-008370dd4d95')\"\n",
              "            title=\"Convert this dataframe to an interactive table.\"\n",
              "            style=\"display:none;\">\n",
              "\n",
              "  <svg xmlns=\"http://www.w3.org/2000/svg\" height=\"24px\" viewBox=\"0 -960 960 960\">\n",
              "    <path d=\"M120-120v-720h720v720H120Zm60-500h600v-160H180v160Zm220 220h160v-160H400v160Zm0 220h160v-160H400v160ZM180-400h160v-160H180v160Zm440 0h160v-160H620v160ZM180-180h160v-160H180v160Zm440 0h160v-160H620v160Z\"/>\n",
              "  </svg>\n",
              "    </button>\n",
              "\n",
              "  <style>\n",
              "    .colab-df-container {\n",
              "      display:flex;\n",
              "      gap: 12px;\n",
              "    }\n",
              "\n",
              "    .colab-df-convert {\n",
              "      background-color: #E8F0FE;\n",
              "      border: none;\n",
              "      border-radius: 50%;\n",
              "      cursor: pointer;\n",
              "      display: none;\n",
              "      fill: #1967D2;\n",
              "      height: 32px;\n",
              "      padding: 0 0 0 0;\n",
              "      width: 32px;\n",
              "    }\n",
              "\n",
              "    .colab-df-convert:hover {\n",
              "      background-color: #E2EBFA;\n",
              "      box-shadow: 0px 1px 2px rgba(60, 64, 67, 0.3), 0px 1px 3px 1px rgba(60, 64, 67, 0.15);\n",
              "      fill: #174EA6;\n",
              "    }\n",
              "\n",
              "    .colab-df-buttons div {\n",
              "      margin-bottom: 4px;\n",
              "    }\n",
              "\n",
              "    [theme=dark] .colab-df-convert {\n",
              "      background-color: #3B4455;\n",
              "      fill: #D2E3FC;\n",
              "    }\n",
              "\n",
              "    [theme=dark] .colab-df-convert:hover {\n",
              "      background-color: #434B5C;\n",
              "      box-shadow: 0px 1px 3px 1px rgba(0, 0, 0, 0.15);\n",
              "      filter: drop-shadow(0px 1px 2px rgba(0, 0, 0, 0.3));\n",
              "      fill: #FFFFFF;\n",
              "    }\n",
              "  </style>\n",
              "\n",
              "    <script>\n",
              "      const buttonEl =\n",
              "        document.querySelector('#df-ce6317ae-fe33-427f-8212-008370dd4d95 button.colab-df-convert');\n",
              "      buttonEl.style.display =\n",
              "        google.colab.kernel.accessAllowed ? 'block' : 'none';\n",
              "\n",
              "      async function convertToInteractive(key) {\n",
              "        const element = document.querySelector('#df-ce6317ae-fe33-427f-8212-008370dd4d95');\n",
              "        const dataTable =\n",
              "          await google.colab.kernel.invokeFunction('convertToInteractive',\n",
              "                                                    [key], {});\n",
              "        if (!dataTable) return;\n",
              "\n",
              "        const docLinkHtml = 'Like what you see? Visit the ' +\n",
              "          '<a target=\"_blank\" href=https://colab.research.google.com/notebooks/data_table.ipynb>data table notebook</a>'\n",
              "          + ' to learn more about interactive tables.';\n",
              "        element.innerHTML = '';\n",
              "        dataTable['output_type'] = 'display_data';\n",
              "        await google.colab.output.renderOutput(dataTable, element);\n",
              "        const docLink = document.createElement('div');\n",
              "        docLink.innerHTML = docLinkHtml;\n",
              "        element.appendChild(docLink);\n",
              "      }\n",
              "    </script>\n",
              "  </div>\n",
              "\n",
              "\n",
              "<div id=\"df-3c4a0eb1-98b8-4364-8d89-fc692f8c9e80\">\n",
              "  <button class=\"colab-df-quickchart\" onclick=\"quickchart('df-3c4a0eb1-98b8-4364-8d89-fc692f8c9e80')\"\n",
              "            title=\"Suggest charts.\"\n",
              "            style=\"display:none;\">\n",
              "\n",
              "<svg xmlns=\"http://www.w3.org/2000/svg\" height=\"24px\"viewBox=\"0 0 24 24\"\n",
              "     width=\"24px\">\n",
              "    <g>\n",
              "        <path d=\"M19 3H5c-1.1 0-2 .9-2 2v14c0 1.1.9 2 2 2h14c1.1 0 2-.9 2-2V5c0-1.1-.9-2-2-2zM9 17H7v-7h2v7zm4 0h-2V7h2v10zm4 0h-2v-4h2v4z\"/>\n",
              "    </g>\n",
              "</svg>\n",
              "  </button>\n",
              "\n",
              "<style>\n",
              "  .colab-df-quickchart {\n",
              "      --bg-color: #E8F0FE;\n",
              "      --fill-color: #1967D2;\n",
              "      --hover-bg-color: #E2EBFA;\n",
              "      --hover-fill-color: #174EA6;\n",
              "      --disabled-fill-color: #AAA;\n",
              "      --disabled-bg-color: #DDD;\n",
              "  }\n",
              "\n",
              "  [theme=dark] .colab-df-quickchart {\n",
              "      --bg-color: #3B4455;\n",
              "      --fill-color: #D2E3FC;\n",
              "      --hover-bg-color: #434B5C;\n",
              "      --hover-fill-color: #FFFFFF;\n",
              "      --disabled-bg-color: #3B4455;\n",
              "      --disabled-fill-color: #666;\n",
              "  }\n",
              "\n",
              "  .colab-df-quickchart {\n",
              "    background-color: var(--bg-color);\n",
              "    border: none;\n",
              "    border-radius: 50%;\n",
              "    cursor: pointer;\n",
              "    display: none;\n",
              "    fill: var(--fill-color);\n",
              "    height: 32px;\n",
              "    padding: 0;\n",
              "    width: 32px;\n",
              "  }\n",
              "\n",
              "  .colab-df-quickchart:hover {\n",
              "    background-color: var(--hover-bg-color);\n",
              "    box-shadow: 0 1px 2px rgba(60, 64, 67, 0.3), 0 1px 3px 1px rgba(60, 64, 67, 0.15);\n",
              "    fill: var(--button-hover-fill-color);\n",
              "  }\n",
              "\n",
              "  .colab-df-quickchart-complete:disabled,\n",
              "  .colab-df-quickchart-complete:disabled:hover {\n",
              "    background-color: var(--disabled-bg-color);\n",
              "    fill: var(--disabled-fill-color);\n",
              "    box-shadow: none;\n",
              "  }\n",
              "\n",
              "  .colab-df-spinner {\n",
              "    border: 2px solid var(--fill-color);\n",
              "    border-color: transparent;\n",
              "    border-bottom-color: var(--fill-color);\n",
              "    animation:\n",
              "      spin 1s steps(1) infinite;\n",
              "  }\n",
              "\n",
              "  @keyframes spin {\n",
              "    0% {\n",
              "      border-color: transparent;\n",
              "      border-bottom-color: var(--fill-color);\n",
              "      border-left-color: var(--fill-color);\n",
              "    }\n",
              "    20% {\n",
              "      border-color: transparent;\n",
              "      border-left-color: var(--fill-color);\n",
              "      border-top-color: var(--fill-color);\n",
              "    }\n",
              "    30% {\n",
              "      border-color: transparent;\n",
              "      border-left-color: var(--fill-color);\n",
              "      border-top-color: var(--fill-color);\n",
              "      border-right-color: var(--fill-color);\n",
              "    }\n",
              "    40% {\n",
              "      border-color: transparent;\n",
              "      border-right-color: var(--fill-color);\n",
              "      border-top-color: var(--fill-color);\n",
              "    }\n",
              "    60% {\n",
              "      border-color: transparent;\n",
              "      border-right-color: var(--fill-color);\n",
              "    }\n",
              "    80% {\n",
              "      border-color: transparent;\n",
              "      border-right-color: var(--fill-color);\n",
              "      border-bottom-color: var(--fill-color);\n",
              "    }\n",
              "    90% {\n",
              "      border-color: transparent;\n",
              "      border-bottom-color: var(--fill-color);\n",
              "    }\n",
              "  }\n",
              "</style>\n",
              "\n",
              "  <script>\n",
              "    async function quickchart(key) {\n",
              "      const quickchartButtonEl =\n",
              "        document.querySelector('#' + key + ' button');\n",
              "      quickchartButtonEl.disabled = true;  // To prevent multiple clicks.\n",
              "      quickchartButtonEl.classList.add('colab-df-spinner');\n",
              "      try {\n",
              "        const charts = await google.colab.kernel.invokeFunction(\n",
              "            'suggestCharts', [key], {});\n",
              "      } catch (error) {\n",
              "        console.error('Error during call to suggestCharts:', error);\n",
              "      }\n",
              "      quickchartButtonEl.classList.remove('colab-df-spinner');\n",
              "      quickchartButtonEl.classList.add('colab-df-quickchart-complete');\n",
              "    }\n",
              "    (() => {\n",
              "      let quickchartButtonEl =\n",
              "        document.querySelector('#df-3c4a0eb1-98b8-4364-8d89-fc692f8c9e80 button');\n",
              "      quickchartButtonEl.style.display =\n",
              "        google.colab.kernel.accessAllowed ? 'block' : 'none';\n",
              "    })();\n",
              "  </script>\n",
              "</div>\n",
              "    </div>\n",
              "  </div>\n"
            ]
          },
          "metadata": {},
          "execution_count": 8
        }
      ]
    },
    {
      "cell_type": "code",
      "source": [
        "# Tách dữ liệu thành tập train và tập test\n",
        "X_train, X_test, y_train, y_test = train_test_split(X, y, test_size=0.3, random_state=22520004)"
      ],
      "metadata": {
        "id": "SL4x478WZXhH"
      },
      "execution_count": null,
      "outputs": []
    },
    {
      "cell_type": "code",
      "source": [
        "# Tạo mô hình Decision Tree cho phân loại\n",
        "from sklearn.tree import DecisionTreeClassifier\n",
        "model = DecisionTreeClassifier(max_depth=3, random_state=42)"
      ],
      "metadata": {
        "id": "a0e0RB3_ZwyB"
      },
      "execution_count": null,
      "outputs": []
    },
    {
      "cell_type": "code",
      "source": [
        "# Train mô hình\n",
        "model.fit(X_train, y_train)"
      ],
      "metadata": {
        "colab": {
          "base_uri": "https://localhost:8080/",
          "height": 75
        },
        "id": "mqdY7z-XaDPS",
        "outputId": "6c656162-23d4-4215-9a4a-bb1bdf1bb360"
      },
      "execution_count": null,
      "outputs": [
        {
          "output_type": "execute_result",
          "data": {
            "text/plain": [
              "DecisionTreeClassifier(max_depth=3, random_state=42)"
            ],
            "text/html": [
              "<style>#sk-container-id-1 {color: black;background-color: white;}#sk-container-id-1 pre{padding: 0;}#sk-container-id-1 div.sk-toggleable {background-color: white;}#sk-container-id-1 label.sk-toggleable__label {cursor: pointer;display: block;width: 100%;margin-bottom: 0;padding: 0.3em;box-sizing: border-box;text-align: center;}#sk-container-id-1 label.sk-toggleable__label-arrow:before {content: \"▸\";float: left;margin-right: 0.25em;color: #696969;}#sk-container-id-1 label.sk-toggleable__label-arrow:hover:before {color: black;}#sk-container-id-1 div.sk-estimator:hover label.sk-toggleable__label-arrow:before {color: black;}#sk-container-id-1 div.sk-toggleable__content {max-height: 0;max-width: 0;overflow: hidden;text-align: left;background-color: #f0f8ff;}#sk-container-id-1 div.sk-toggleable__content pre {margin: 0.2em;color: black;border-radius: 0.25em;background-color: #f0f8ff;}#sk-container-id-1 input.sk-toggleable__control:checked~div.sk-toggleable__content {max-height: 200px;max-width: 100%;overflow: auto;}#sk-container-id-1 input.sk-toggleable__control:checked~label.sk-toggleable__label-arrow:before {content: \"▾\";}#sk-container-id-1 div.sk-estimator input.sk-toggleable__control:checked~label.sk-toggleable__label {background-color: #d4ebff;}#sk-container-id-1 div.sk-label input.sk-toggleable__control:checked~label.sk-toggleable__label {background-color: #d4ebff;}#sk-container-id-1 input.sk-hidden--visually {border: 0;clip: rect(1px 1px 1px 1px);clip: rect(1px, 1px, 1px, 1px);height: 1px;margin: -1px;overflow: hidden;padding: 0;position: absolute;width: 1px;}#sk-container-id-1 div.sk-estimator {font-family: monospace;background-color: #f0f8ff;border: 1px dotted black;border-radius: 0.25em;box-sizing: border-box;margin-bottom: 0.5em;}#sk-container-id-1 div.sk-estimator:hover {background-color: #d4ebff;}#sk-container-id-1 div.sk-parallel-item::after {content: \"\";width: 100%;border-bottom: 1px solid gray;flex-grow: 1;}#sk-container-id-1 div.sk-label:hover label.sk-toggleable__label {background-color: #d4ebff;}#sk-container-id-1 div.sk-serial::before {content: \"\";position: absolute;border-left: 1px solid gray;box-sizing: border-box;top: 0;bottom: 0;left: 50%;z-index: 0;}#sk-container-id-1 div.sk-serial {display: flex;flex-direction: column;align-items: center;background-color: white;padding-right: 0.2em;padding-left: 0.2em;position: relative;}#sk-container-id-1 div.sk-item {position: relative;z-index: 1;}#sk-container-id-1 div.sk-parallel {display: flex;align-items: stretch;justify-content: center;background-color: white;position: relative;}#sk-container-id-1 div.sk-item::before, #sk-container-id-1 div.sk-parallel-item::before {content: \"\";position: absolute;border-left: 1px solid gray;box-sizing: border-box;top: 0;bottom: 0;left: 50%;z-index: -1;}#sk-container-id-1 div.sk-parallel-item {display: flex;flex-direction: column;z-index: 1;position: relative;background-color: white;}#sk-container-id-1 div.sk-parallel-item:first-child::after {align-self: flex-end;width: 50%;}#sk-container-id-1 div.sk-parallel-item:last-child::after {align-self: flex-start;width: 50%;}#sk-container-id-1 div.sk-parallel-item:only-child::after {width: 0;}#sk-container-id-1 div.sk-dashed-wrapped {border: 1px dashed gray;margin: 0 0.4em 0.5em 0.4em;box-sizing: border-box;padding-bottom: 0.4em;background-color: white;}#sk-container-id-1 div.sk-label label {font-family: monospace;font-weight: bold;display: inline-block;line-height: 1.2em;}#sk-container-id-1 div.sk-label-container {text-align: center;}#sk-container-id-1 div.sk-container {/* jupyter's `normalize.less` sets `[hidden] { display: none; }` but bootstrap.min.css set `[hidden] { display: none !important; }` so we also need the `!important` here to be able to override the default hidden behavior on the sphinx rendered scikit-learn.org. See: https://github.com/scikit-learn/scikit-learn/issues/21755 */display: inline-block !important;position: relative;}#sk-container-id-1 div.sk-text-repr-fallback {display: none;}</style><div id=\"sk-container-id-1\" class=\"sk-top-container\"><div class=\"sk-text-repr-fallback\"><pre>DecisionTreeClassifier(max_depth=3, random_state=42)</pre><b>In a Jupyter environment, please rerun this cell to show the HTML representation or trust the notebook. <br />On GitHub, the HTML representation is unable to render, please try loading this page with nbviewer.org.</b></div><div class=\"sk-container\" hidden><div class=\"sk-item\"><div class=\"sk-estimator sk-toggleable\"><input class=\"sk-toggleable__control sk-hidden--visually\" id=\"sk-estimator-id-1\" type=\"checkbox\" checked><label for=\"sk-estimator-id-1\" class=\"sk-toggleable__label sk-toggleable__label-arrow\">DecisionTreeClassifier</label><div class=\"sk-toggleable__content\"><pre>DecisionTreeClassifier(max_depth=3, random_state=42)</pre></div></div></div></div></div>"
            ]
          },
          "metadata": {},
          "execution_count": 11
        }
      ]
    },
    {
      "cell_type": "code",
      "source": [
        "from graphviz import Source\n",
        "from sklearn.tree import export_graphviz\n",
        "export_graphviz(model, out_file='iris.dot', feature_names=iris.feature_names, class_names=iris.target_names, impurity=False,\n",
        "                filled=True, rounded=True)\n",
        "Source.from_file('iris.dot')"
      ],
      "metadata": {
        "colab": {
          "base_uri": "https://localhost:8080/",
          "height": 539
        },
        "id": "Ub6euTTnaXE9",
        "outputId": "3f4bf499-a566-41ca-de17-b942a0860f90"
      },
      "execution_count": null,
      "outputs": [
        {
          "output_type": "execute_result",
          "data": {
            "image/svg+xml": "<?xml version=\"1.0\" encoding=\"UTF-8\" standalone=\"no\"?>\n<!DOCTYPE svg PUBLIC \"-//W3C//DTD SVG 1.1//EN\"\n \"http://www.w3.org/Graphics/SVG/1.1/DTD/svg11.dtd\">\n<!-- Generated by graphviz version 2.43.0 (0)\n -->\n<!-- Title: Tree Pages: 1 -->\n<svg width=\"554pt\" height=\"373pt\"\n viewBox=\"0.00 0.00 554.00 373.00\" xmlns=\"http://www.w3.org/2000/svg\" xmlns:xlink=\"http://www.w3.org/1999/xlink\">\n<g id=\"graph0\" class=\"graph\" transform=\"scale(1 1) rotate(0) translate(4 369)\">\n<title>Tree</title>\n<polygon fill=\"white\" stroke=\"transparent\" points=\"-4,4 -4,-369 550,-369 550,4 -4,4\"/>\n<!-- 0 -->\n<g id=\"node1\" class=\"node\">\n<title>0</title>\n<path fill=\"#fefbf9\" stroke=\"black\" d=\"M267.5,-365C267.5,-365 123.5,-365 123.5,-365 117.5,-365 111.5,-359 111.5,-353 111.5,-353 111.5,-309 111.5,-309 111.5,-303 117.5,-297 123.5,-297 123.5,-297 267.5,-297 267.5,-297 273.5,-297 279.5,-303 279.5,-309 279.5,-309 279.5,-353 279.5,-353 279.5,-359 273.5,-365 267.5,-365\"/>\n<text text-anchor=\"middle\" x=\"195.5\" y=\"-349.8\" font-family=\"Helvetica,sans-Serif\" font-size=\"14.00\">petal length (cm) &lt;= 2.45</text>\n<text text-anchor=\"middle\" x=\"195.5\" y=\"-334.8\" font-family=\"Helvetica,sans-Serif\" font-size=\"14.00\">samples = 105</text>\n<text text-anchor=\"middle\" x=\"195.5\" y=\"-319.8\" font-family=\"Helvetica,sans-Serif\" font-size=\"14.00\">value = [39, 37, 29]</text>\n<text text-anchor=\"middle\" x=\"195.5\" y=\"-304.8\" font-family=\"Helvetica,sans-Serif\" font-size=\"14.00\">class = setosa</text>\n</g>\n<!-- 1 -->\n<g id=\"node2\" class=\"node\">\n<title>1</title>\n<path fill=\"#e58139\" stroke=\"black\" d=\"M163,-253.5C163,-253.5 70,-253.5 70,-253.5 64,-253.5 58,-247.5 58,-241.5 58,-241.5 58,-212.5 58,-212.5 58,-206.5 64,-200.5 70,-200.5 70,-200.5 163,-200.5 163,-200.5 169,-200.5 175,-206.5 175,-212.5 175,-212.5 175,-241.5 175,-241.5 175,-247.5 169,-253.5 163,-253.5\"/>\n<text text-anchor=\"middle\" x=\"116.5\" y=\"-238.3\" font-family=\"Helvetica,sans-Serif\" font-size=\"14.00\">samples = 39</text>\n<text text-anchor=\"middle\" x=\"116.5\" y=\"-223.3\" font-family=\"Helvetica,sans-Serif\" font-size=\"14.00\">value = [39, 0, 0]</text>\n<text text-anchor=\"middle\" x=\"116.5\" y=\"-208.3\" font-family=\"Helvetica,sans-Serif\" font-size=\"14.00\">class = setosa</text>\n</g>\n<!-- 0&#45;&gt;1 -->\n<g id=\"edge1\" class=\"edge\">\n<title>0&#45;&gt;1</title>\n<path fill=\"none\" stroke=\"black\" d=\"M169.85,-296.88C161.08,-285.56 151.26,-272.88 142.46,-261.52\"/>\n<polygon fill=\"black\" stroke=\"black\" points=\"145.16,-259.28 136.27,-253.52 139.62,-263.57 145.16,-259.28\"/>\n<text text-anchor=\"middle\" x=\"133.11\" y=\"-274.62\" font-family=\"Helvetica,sans-Serif\" font-size=\"14.00\">True</text>\n</g>\n<!-- 2 -->\n<g id=\"node3\" class=\"node\">\n<title>2</title>\n<path fill=\"#d4f9e4\" stroke=\"black\" d=\"M344,-261C344,-261 205,-261 205,-261 199,-261 193,-255 193,-249 193,-249 193,-205 193,-205 193,-199 199,-193 205,-193 205,-193 344,-193 344,-193 350,-193 356,-199 356,-205 356,-205 356,-249 356,-249 356,-255 350,-261 344,-261\"/>\n<text text-anchor=\"middle\" x=\"274.5\" y=\"-245.8\" font-family=\"Helvetica,sans-Serif\" font-size=\"14.00\">petal width (cm) &lt;= 1.65</text>\n<text text-anchor=\"middle\" x=\"274.5\" y=\"-230.8\" font-family=\"Helvetica,sans-Serif\" font-size=\"14.00\">samples = 66</text>\n<text text-anchor=\"middle\" x=\"274.5\" y=\"-215.8\" font-family=\"Helvetica,sans-Serif\" font-size=\"14.00\">value = [0, 37, 29]</text>\n<text text-anchor=\"middle\" x=\"274.5\" y=\"-200.8\" font-family=\"Helvetica,sans-Serif\" font-size=\"14.00\">class = versicolor</text>\n</g>\n<!-- 0&#45;&gt;2 -->\n<g id=\"edge2\" class=\"edge\">\n<title>0&#45;&gt;2</title>\n<path fill=\"none\" stroke=\"black\" d=\"M221.15,-296.88C227.98,-288.07 235.44,-278.43 242.56,-269.24\"/>\n<polygon fill=\"black\" stroke=\"black\" points=\"245.35,-271.35 248.71,-261.3 239.82,-267.06 245.35,-271.35\"/>\n<text text-anchor=\"middle\" x=\"251.86\" y=\"-282.4\" font-family=\"Helvetica,sans-Serif\" font-size=\"14.00\">False</text>\n</g>\n<!-- 3 -->\n<g id=\"node4\" class=\"node\">\n<title>3</title>\n<path fill=\"#49e78c\" stroke=\"black\" d=\"M252.5,-157C252.5,-157 108.5,-157 108.5,-157 102.5,-157 96.5,-151 96.5,-145 96.5,-145 96.5,-101 96.5,-101 96.5,-95 102.5,-89 108.5,-89 108.5,-89 252.5,-89 252.5,-89 258.5,-89 264.5,-95 264.5,-101 264.5,-101 264.5,-145 264.5,-145 264.5,-151 258.5,-157 252.5,-157\"/>\n<text text-anchor=\"middle\" x=\"180.5\" y=\"-141.8\" font-family=\"Helvetica,sans-Serif\" font-size=\"14.00\">petal length (cm) &lt;= 4.95</text>\n<text text-anchor=\"middle\" x=\"180.5\" y=\"-126.8\" font-family=\"Helvetica,sans-Serif\" font-size=\"14.00\">samples = 39</text>\n<text text-anchor=\"middle\" x=\"180.5\" y=\"-111.8\" font-family=\"Helvetica,sans-Serif\" font-size=\"14.00\">value = [0, 36, 3]</text>\n<text text-anchor=\"middle\" x=\"180.5\" y=\"-96.8\" font-family=\"Helvetica,sans-Serif\" font-size=\"14.00\">class = versicolor</text>\n</g>\n<!-- 2&#45;&gt;3 -->\n<g id=\"edge3\" class=\"edge\">\n<title>2&#45;&gt;3</title>\n<path fill=\"none\" stroke=\"black\" d=\"M243.98,-192.88C235.69,-183.89 226.62,-174.04 217.99,-164.68\"/>\n<polygon fill=\"black\" stroke=\"black\" points=\"220.54,-162.28 211.19,-157.3 215.39,-167.02 220.54,-162.28\"/>\n</g>\n<!-- 6 -->\n<g id=\"node7\" class=\"node\">\n<title>6</title>\n<path fill=\"#8641e6\" stroke=\"black\" d=\"M442,-157C442,-157 295,-157 295,-157 289,-157 283,-151 283,-145 283,-145 283,-101 283,-101 283,-95 289,-89 295,-89 295,-89 442,-89 442,-89 448,-89 454,-95 454,-101 454,-101 454,-145 454,-145 454,-151 448,-157 442,-157\"/>\n<text text-anchor=\"middle\" x=\"368.5\" y=\"-141.8\" font-family=\"Helvetica,sans-Serif\" font-size=\"14.00\">sepal length (cm) &lt;= 5.95</text>\n<text text-anchor=\"middle\" x=\"368.5\" y=\"-126.8\" font-family=\"Helvetica,sans-Serif\" font-size=\"14.00\">samples = 27</text>\n<text text-anchor=\"middle\" x=\"368.5\" y=\"-111.8\" font-family=\"Helvetica,sans-Serif\" font-size=\"14.00\">value = [0, 1, 26]</text>\n<text text-anchor=\"middle\" x=\"368.5\" y=\"-96.8\" font-family=\"Helvetica,sans-Serif\" font-size=\"14.00\">class = virginica</text>\n</g>\n<!-- 2&#45;&gt;6 -->\n<g id=\"edge6\" class=\"edge\">\n<title>2&#45;&gt;6</title>\n<path fill=\"none\" stroke=\"black\" d=\"M305.02,-192.88C313.31,-183.89 322.38,-174.04 331.01,-164.68\"/>\n<polygon fill=\"black\" stroke=\"black\" points=\"333.61,-167.02 337.81,-157.3 328.46,-162.28 333.61,-167.02\"/>\n</g>\n<!-- 4 -->\n<g id=\"node5\" class=\"node\">\n<title>4</title>\n<path fill=\"#39e581\" stroke=\"black\" d=\"M109,-53C109,-53 12,-53 12,-53 6,-53 0,-47 0,-41 0,-41 0,-12 0,-12 0,-6 6,0 12,0 12,0 109,0 109,0 115,0 121,-6 121,-12 121,-12 121,-41 121,-41 121,-47 115,-53 109,-53\"/>\n<text text-anchor=\"middle\" x=\"60.5\" y=\"-37.8\" font-family=\"Helvetica,sans-Serif\" font-size=\"14.00\">samples = 35</text>\n<text text-anchor=\"middle\" x=\"60.5\" y=\"-22.8\" font-family=\"Helvetica,sans-Serif\" font-size=\"14.00\">value = [0, 35, 0]</text>\n<text text-anchor=\"middle\" x=\"60.5\" y=\"-7.8\" font-family=\"Helvetica,sans-Serif\" font-size=\"14.00\">class = versicolor</text>\n</g>\n<!-- 3&#45;&gt;4 -->\n<g id=\"edge4\" class=\"edge\">\n<title>3&#45;&gt;4</title>\n<path fill=\"none\" stroke=\"black\" d=\"M138.53,-88.95C126.45,-79.43 113.29,-69.07 101.28,-59.62\"/>\n<polygon fill=\"black\" stroke=\"black\" points=\"103.2,-56.67 93.18,-53.24 98.87,-62.17 103.2,-56.67\"/>\n</g>\n<!-- 5 -->\n<g id=\"node6\" class=\"node\">\n<title>5</title>\n<path fill=\"#ab7bee\" stroke=\"black\" d=\"M240,-53C240,-53 151,-53 151,-53 145,-53 139,-47 139,-41 139,-41 139,-12 139,-12 139,-6 145,0 151,0 151,0 240,0 240,0 246,0 252,-6 252,-12 252,-12 252,-41 252,-41 252,-47 246,-53 240,-53\"/>\n<text text-anchor=\"middle\" x=\"195.5\" y=\"-37.8\" font-family=\"Helvetica,sans-Serif\" font-size=\"14.00\">samples = 4</text>\n<text text-anchor=\"middle\" x=\"195.5\" y=\"-22.8\" font-family=\"Helvetica,sans-Serif\" font-size=\"14.00\">value = [0, 1, 3]</text>\n<text text-anchor=\"middle\" x=\"195.5\" y=\"-7.8\" font-family=\"Helvetica,sans-Serif\" font-size=\"14.00\">class = virginica</text>\n</g>\n<!-- 3&#45;&gt;5 -->\n<g id=\"edge5\" class=\"edge\">\n<title>3&#45;&gt;5</title>\n<path fill=\"none\" stroke=\"black\" d=\"M185.75,-88.95C187.07,-80.62 188.49,-71.65 189.83,-63.2\"/>\n<polygon fill=\"black\" stroke=\"black\" points=\"193.3,-63.66 191.41,-53.24 186.39,-62.56 193.3,-63.66\"/>\n</g>\n<!-- 7 -->\n<g id=\"node8\" class=\"node\">\n<title>7</title>\n<path fill=\"#ab7bee\" stroke=\"black\" d=\"M399,-53C399,-53 310,-53 310,-53 304,-53 298,-47 298,-41 298,-41 298,-12 298,-12 298,-6 304,0 310,0 310,0 399,0 399,0 405,0 411,-6 411,-12 411,-12 411,-41 411,-41 411,-47 405,-53 399,-53\"/>\n<text text-anchor=\"middle\" x=\"354.5\" y=\"-37.8\" font-family=\"Helvetica,sans-Serif\" font-size=\"14.00\">samples = 4</text>\n<text text-anchor=\"middle\" x=\"354.5\" y=\"-22.8\" font-family=\"Helvetica,sans-Serif\" font-size=\"14.00\">value = [0, 1, 3]</text>\n<text text-anchor=\"middle\" x=\"354.5\" y=\"-7.8\" font-family=\"Helvetica,sans-Serif\" font-size=\"14.00\">class = virginica</text>\n</g>\n<!-- 6&#45;&gt;7 -->\n<g id=\"edge7\" class=\"edge\">\n<title>6&#45;&gt;7</title>\n<path fill=\"none\" stroke=\"black\" d=\"M363.6,-88.95C362.37,-80.62 361.04,-71.65 359.79,-63.2\"/>\n<polygon fill=\"black\" stroke=\"black\" points=\"363.24,-62.62 358.31,-53.24 356.32,-63.64 363.24,-62.62\"/>\n</g>\n<!-- 8 -->\n<g id=\"node9\" class=\"node\">\n<title>8</title>\n<path fill=\"#8139e5\" stroke=\"black\" d=\"M534,-53C534,-53 441,-53 441,-53 435,-53 429,-47 429,-41 429,-41 429,-12 429,-12 429,-6 435,0 441,0 441,0 534,0 534,0 540,0 546,-6 546,-12 546,-12 546,-41 546,-41 546,-47 540,-53 534,-53\"/>\n<text text-anchor=\"middle\" x=\"487.5\" y=\"-37.8\" font-family=\"Helvetica,sans-Serif\" font-size=\"14.00\">samples = 23</text>\n<text text-anchor=\"middle\" x=\"487.5\" y=\"-22.8\" font-family=\"Helvetica,sans-Serif\" font-size=\"14.00\">value = [0, 0, 23]</text>\n<text text-anchor=\"middle\" x=\"487.5\" y=\"-7.8\" font-family=\"Helvetica,sans-Serif\" font-size=\"14.00\">class = virginica</text>\n</g>\n<!-- 6&#45;&gt;8 -->\n<g id=\"edge8\" class=\"edge\">\n<title>6&#45;&gt;8</title>\n<path fill=\"none\" stroke=\"black\" d=\"M410.12,-88.95C422.1,-79.43 435.15,-69.07 447.06,-59.62\"/>\n<polygon fill=\"black\" stroke=\"black\" points=\"449.44,-62.2 455.09,-53.24 445.08,-56.71 449.44,-62.2\"/>\n</g>\n</g>\n</svg>\n",
            "text/plain": [
              "<graphviz.sources.Source at 0x794393551870>"
            ]
          },
          "metadata": {},
          "execution_count": 12
        }
      ]
    },
    {
      "cell_type": "code",
      "source": [
        "# Cho mô hình dự đoán trên tập test\n",
        "y_pred = model.predict(X_test)\n",
        "print(y_pred)"
      ],
      "metadata": {
        "colab": {
          "base_uri": "https://localhost:8080/"
        },
        "id": "mRITyFnuaHam",
        "outputId": "14f79bf5-a8f5-44e0-c64d-752dc37d6c32"
      },
      "execution_count": null,
      "outputs": [
        {
          "output_type": "stream",
          "name": "stdout",
          "text": [
            "[0 2 2 0 2 1 0 2 2 2 0 2 1 2 1 2 2 1 2 1 2 0 0 2 0 1 2 2 0 2 0 1 1 1 2 0 2\n",
            " 1 2 2 1 1 0 2 2]\n"
          ]
        }
      ]
    },
    {
      "cell_type": "code",
      "source": [
        "# Đánh giá mô hình\n",
        "from sklearn.metrics import accuracy_score\n",
        "accuracy = accuracy_score(y_test, y_pred)\n",
        "print(accuracy)"
      ],
      "metadata": {
        "colab": {
          "base_uri": "https://localhost:8080/"
        },
        "id": "4nA8_pv2adl4",
        "outputId": "9f84bb7d-8853-46f5-cc6a-a278f1b6efc7"
      },
      "execution_count": null,
      "outputs": [
        {
          "output_type": "stream",
          "name": "stdout",
          "text": [
            "0.9777777777777777\n"
          ]
        }
      ]
    },
    {
      "cell_type": "markdown",
      "source": [
        "# 3. Các tiêu chuẩn split phổ biến"
      ],
      "metadata": {
        "id": "vM4FTpDb4SMk"
      }
    },
    {
      "cell_type": "markdown",
      "source": [
        "3.1. Gini Impurity"
      ],
      "metadata": {
        "id": "7EGZUw4V4W3h"
      }
    },
    {
      "cell_type": "code",
      "source": [
        "def gini_impurity(labels):\n",
        "    total_samples = len(labels)\n",
        "    if total_samples == 0:\n",
        "        return 0.0\n",
        "\n",
        "    # Đếm số lượng mẫu thuộc vào mỗi lớp\n",
        "    class_counts = {}\n",
        "    for label in labels:\n",
        "        if label not in class_counts:\n",
        "            class_counts[label] = 0\n",
        "        class_counts[label] += 1\n",
        "\n",
        "    # Tính Gini impurity\n",
        "    gini = 1.0\n",
        "    for label in class_counts:\n",
        "        probability = class_counts[label] / total_samples\n",
        "        gini -= probability ** 2\n",
        "\n",
        "    return gini\n",
        "\n",
        "# Ví dụ sử dụng:\n",
        "labels = [0, 1, 0, 0, 1, 1]\n",
        "gini = gini_impurity(labels)\n",
        "print(\"Gini impurity:\", gini)\n"
      ],
      "metadata": {
        "colab": {
          "base_uri": "https://localhost:8080/"
        },
        "id": "-LkeuqqN4ffI",
        "outputId": "b5d06cef-1924-448e-fe1d-39e3f8078eb3"
      },
      "execution_count": null,
      "outputs": [
        {
          "output_type": "stream",
          "name": "stdout",
          "text": [
            "Gini impurity: 0.5\n"
          ]
        }
      ]
    },
    {
      "cell_type": "markdown",
      "source": [
        "3.2. Entropy"
      ],
      "metadata": {
        "id": "MX-97SK74v6a"
      }
    },
    {
      "cell_type": "code",
      "source": [
        "import math\n",
        "\n",
        "def entropy(labels):\n",
        "    total_samples = len(labels)\n",
        "    if total_samples == 0:\n",
        "        return 0.0\n",
        "\n",
        "    # Đếm số lượng mẫu thuộc vào mỗi lớp\n",
        "    class_counts = {}\n",
        "    for label in labels:\n",
        "        if label not in class_counts:\n",
        "            class_counts[label] = 0\n",
        "        class_counts[label] += 1\n",
        "\n",
        "    # Tính entropy\n",
        "    entropy_value = 0.0\n",
        "    for label in class_counts:\n",
        "        probability = class_counts[label] / total_samples\n",
        "        entropy_value -= probability * math.log2(probability)\n",
        "\n",
        "    return entropy_value\n",
        "\n",
        "# Ví dụ sử dụng:\n",
        "labels = [0, 1, 0, 0, 1, 1]\n",
        "ent = entropy(labels)\n",
        "print(\"Entropy:\", ent)"
      ],
      "metadata": {
        "id": "GQnvbost4xqY",
        "outputId": "fa60318e-b4be-43a3-abf2-b0df9e844152",
        "colab": {
          "base_uri": "https://localhost:8080/"
        }
      },
      "execution_count": null,
      "outputs": [
        {
          "output_type": "stream",
          "name": "stdout",
          "text": [
            "Entropy: 1.0\n"
          ]
        }
      ]
    },
    {
      "cell_type": "markdown",
      "source": [
        "# 4. Thuật toán xây dựng Decision Tree"
      ],
      "metadata": {
        "id": "siSBCi4lCjBX"
      }
    },
    {
      "cell_type": "markdown",
      "source": [
        "4.1. ID3: Dùng tiêu chuẩn entropy để tạo Decision Tree bằng thuật toán ID3"
      ],
      "metadata": {
        "id": "zh0RK6qiCnRO"
      }
    },
    {
      "cell_type": "code",
      "source": [
        "model = DecisionTreeClassifier(criterion=\"entropy\")"
      ],
      "metadata": {
        "id": "jRpoBOR2Csg-"
      },
      "execution_count": null,
      "outputs": []
    },
    {
      "cell_type": "markdown",
      "source": [
        "4.2. CART: Dùng tiêu chuẩn gini để tạo Decision Tree bằng thuật toán CART"
      ],
      "metadata": {
        "id": "LLt4_GKrC9tr"
      }
    },
    {
      "cell_type": "code",
      "source": [
        "model = DecisionTreeClassifier(criterion=\"gini\")"
      ],
      "metadata": {
        "id": "4t0lEE6eDF-p"
      },
      "execution_count": null,
      "outputs": []
    },
    {
      "cell_type": "markdown",
      "source": [
        "# 5. Thuật toán ID3"
      ],
      "metadata": {
        "id": "7uZHdpl6a3xp"
      }
    },
    {
      "cell_type": "markdown",
      "source": [
        "Code minh họa cách hoạt động của ID3. Nguồn: https://machinelearningcoban.com/2018/01/14/id3/\n",
        "\n",
        "\n",
        "Tệp dữ liệu sử dụng: https://raw.githubusercontent.com/tiepvupsu/DecisionTreeID3/master/weather.csv"
      ],
      "metadata": {
        "id": "sph2-6vqtAqt"
      }
    },
    {
      "cell_type": "code",
      "source": [
        "from __future__ import print_function\n",
        "import numpy as np\n",
        "import pandas as pd\n",
        "\n",
        "\n",
        "class TreeNode(object):\n",
        "    def __init__(self, ids = None, children = [], entropy = 0, depth = 0):\n",
        "        self.ids = ids           # index of data in this node\n",
        "        self.entropy = entropy   # entropy, will fill later\n",
        "        self.depth = depth       # distance to root node\n",
        "        self.split_attribute = None # which attribute is chosen, it non-leaf\n",
        "        self.children = children # list of its child nodes\n",
        "        self.order = None       # order of values of split_attribute in children\n",
        "        self.label = None       # label of node if it is a leaf\n",
        "\n",
        "    def set_properties(self, split_attribute, order):\n",
        "        self.split_attribute = split_attribute\n",
        "        self.order = order\n",
        "\n",
        "    def set_label(self, label):\n",
        "        self.label = label\n",
        "\n",
        "def entropy(freq):\n",
        "    # remove prob 0\n",
        "    freq_0 = freq[np.array(freq).nonzero()[0]]\n",
        "    prob_0 = freq_0/float(freq_0.sum())\n",
        "    return -np.sum(prob_0*np.log(prob_0))\n",
        "\n",
        "class DecisionTreeID3(object):\n",
        "    def __init__(self, max_depth= 10, min_samples_split = 2, min_gain = 1e-4):\n",
        "        self.root = None\n",
        "        self.max_depth = max_depth\n",
        "        self.min_samples_split = min_samples_split\n",
        "        self.Ntrain = 0\n",
        "        self.min_gain = min_gain\n",
        "\n",
        "    def fit(self, data, target):\n",
        "        self.Ntrain = data.count()[0]\n",
        "        self.data = data\n",
        "        self.attributes = list(data)\n",
        "        self.target = target\n",
        "        self.labels = target.unique()\n",
        "\n",
        "        ids = range(self.Ntrain)\n",
        "        self.root = TreeNode(ids = ids, entropy = self._entropy(ids), depth = 0) # Chọn thuộc tính tốt nhất theo entropy\n",
        "        queue = [self.root]\n",
        "        while queue: # Tiến hành phân chia các nút\n",
        "            node = queue.pop()\n",
        "            if node.depth < self.max_depth or node.entropy < self.min_gain: # Nếu chưa đạt điều kiện dừng thì tiếp tục phân chia\n",
        "                node.children = self._split(node)\n",
        "                if not node.children: # leaf node\n",
        "                    self._set_label(node)\n",
        "                queue += node.children\n",
        "            else: # Nếu đạt điều kiện dừng thì gán nhãn cho nút\n",
        "                self._set_label(node)\n",
        "\n",
        "    def _entropy(self, ids):\n",
        "        # calculate entropy of a node with index ids\n",
        "        if len(ids) == 0: return 0\n",
        "        ids = [i+1 for i in ids] # panda series index starts from 1\n",
        "        freq = np.array(self.target[ids].value_counts())\n",
        "        return entropy(freq)\n",
        "\n",
        "    def _set_label(self, node):\n",
        "        # find label for a node if it is a leaf\n",
        "        # simply chose by major voting\n",
        "        target_ids = [i + 1 for i in node.ids]  # target is a series variable\n",
        "        node.set_label(self.target[target_ids].mode()[0]) # most frequent label\n",
        "\n",
        "    def _split(self, node):\n",
        "        ids = node.ids\n",
        "        best_gain = 0\n",
        "        best_splits = []\n",
        "        best_attribute = None\n",
        "        order = None\n",
        "        sub_data = self.data.iloc[ids, :]\n",
        "        for i, att in enumerate(self.attributes):\n",
        "            values = self.data.iloc[ids, i].unique().tolist()\n",
        "            if len(values) == 1: continue # entropy = 0\n",
        "            splits = []\n",
        "            for val in values:\n",
        "                sub_ids = sub_data.index[sub_data[att] == val].tolist()\n",
        "                splits.append([sub_id-1 for sub_id in sub_ids])\n",
        "            # don't split if a node has too small number of points\n",
        "            if min(map(len, splits)) < self.min_samples_split: continue\n",
        "            # information gain\n",
        "            HxS= 0\n",
        "            for split in splits:\n",
        "                HxS += len(split)*self._entropy(split)/len(ids)\n",
        "            gain = node.entropy - HxS\n",
        "            if gain < self.min_gain: continue # stop if small gain\n",
        "            if gain > best_gain:\n",
        "                best_gain = gain\n",
        "                best_splits = splits\n",
        "                best_attribute = att\n",
        "                order = values\n",
        "        node.set_properties(best_attribute, order)\n",
        "        child_nodes = [TreeNode(ids = split,\n",
        "                     entropy = self._entropy(split), depth = node.depth + 1) for split in best_splits]\n",
        "        return child_nodes\n",
        "\n",
        "    def predict(self, new_data):\n",
        "        \"\"\"\n",
        "        :param new_data: a new dataframe, each row is a datapoint\n",
        "        :return: predicted labels for each row\n",
        "        \"\"\"\n",
        "        npoints = new_data.count()[0]\n",
        "        labels = [None]*npoints\n",
        "        for n in range(npoints):\n",
        "            x = new_data.iloc[n, :] # one point\n",
        "            # start from root and recursively travel if not meet a leaf\n",
        "            node = self.root\n",
        "            while node.children:\n",
        "                node = node.children[node.order.index(x[node.split_attribute])]\n",
        "            labels[n] = node.label\n",
        "\n",
        "        return labels\n",
        "\n",
        "if __name__ == \"__main__\":\n",
        "    # Thêm tệp dữ liệu để train\n",
        "    df = pd.read_csv('/content/weather.csv', index_col = 0, parse_dates = True)\n",
        "    X = df.iloc[:, :-1]\n",
        "    y = df.iloc[:, -1]\n",
        "    tree = DecisionTreeID3(max_depth = 3, min_samples_split = 2)\n",
        "    tree.fit(X, y)\n",
        "    print(tree.predict(X))"
      ],
      "metadata": {
        "colab": {
          "base_uri": "https://localhost:8080/"
        },
        "id": "_w9WtCwJc2jI",
        "outputId": "b1bf3553-d6f4-4469-95d8-7d54112565ca"
      },
      "execution_count": null,
      "outputs": [
        {
          "output_type": "stream",
          "name": "stdout",
          "text": [
            "['no', 'no', 'yes', 'yes', 'yes', 'no', 'yes', 'no', 'yes', 'yes', 'yes', 'yes', 'yes', 'no']\n"
          ]
        }
      ]
    },
    {
      "cell_type": "markdown",
      "source": [
        "![dt_res.png](data:image/png;base64,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)"
      ],
      "metadata": {
        "id": "cond0Dh73N-d"
      }
    }
  ]
}